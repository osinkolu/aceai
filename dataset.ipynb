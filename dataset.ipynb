{
 "cells": [
  {
   "cell_type": "code",
   "execution_count": 1,
   "metadata": {},
   "outputs": [],
   "source": [
    "import pandas as pd\n",
    "import numpy as np\n",
    "import chardet"
   ]
  },
  {
   "cell_type": "code",
   "execution_count": 2,
   "metadata": {},
   "outputs": [
    {
     "name": "stderr",
     "output_type": "stream",
     "text": [
      "C:\\Users\\aceto\\AppData\\Local\\Temp\\ipykernel_5788\\166095867.py:1: DtypeWarning: Columns (268,269,270,271,272,273,274,275,276,277,278,279,280,281,282,283,284,285,286,287,288,289,290,291,292,293,294,295,296,297,298,299,300,301,302,303,304,305,306,307,308,309,310,311,312) have mixed types. Specify dtype option on import or set low_memory=False.\n",
      "  df1 = pd.read_csv('Human_essays.csv')\n"
     ]
    }
   ],
   "source": [
    "df1 = pd.read_csv('Human_essays.csv')\n",
    "df2= pd.read_csv ('AI_essays.csv')"
   ]
  },
  {
   "cell_type": "code",
   "execution_count": 3,
   "metadata": {},
   "outputs": [
    {
     "data": {
      "text/html": [
       "<div>\n",
       "<style scoped>\n",
       "    .dataframe tbody tr th:only-of-type {\n",
       "        vertical-align: middle;\n",
       "    }\n",
       "\n",
       "    .dataframe tbody tr th {\n",
       "        vertical-align: top;\n",
       "    }\n",
       "\n",
       "    .dataframe thead th {\n",
       "        text-align: right;\n",
       "    }\n",
       "</style>\n",
       "<table border=\"1\" class=\"dataframe\">\n",
       "  <thead>\n",
       "    <tr style=\"text-align: right;\">\n",
       "      <th></th>\n",
       "      <th>title</th>\n",
       "      <th>description</th>\n",
       "      <th>essay</th>\n",
       "      <th>authors</th>\n",
       "      <th>source_url</th>\n",
       "      <th>thumbnail_url</th>\n",
       "      <th>Unnamed: 6</th>\n",
       "      <th>Unnamed: 7</th>\n",
       "      <th>Unnamed: 8</th>\n",
       "      <th>Unnamed: 9</th>\n",
       "      <th>...</th>\n",
       "      <th>Unnamed: 303</th>\n",
       "      <th>Unnamed: 304</th>\n",
       "      <th>Unnamed: 305</th>\n",
       "      <th>Unnamed: 306</th>\n",
       "      <th>Unnamed: 307</th>\n",
       "      <th>Unnamed: 308</th>\n",
       "      <th>Unnamed: 309</th>\n",
       "      <th>Unnamed: 310</th>\n",
       "      <th>Unnamed: 311</th>\n",
       "      <th>Unnamed: 312</th>\n",
       "    </tr>\n",
       "  </thead>\n",
       "  <tbody>\n",
       "    <tr>\n",
       "      <th>0</th>\n",
       "      <td>Addiction</td>\n",
       "      <td>Passion stabs, unrequited love hurts and taboo...</td>\n",
       "      <td>Omer Bonne means well; that much is certain. A...</td>\n",
       "      <td>Angela Chen</td>\n",
       "      <td>https://aeon.co//essays/how-far-should-medicin...</td>\n",
       "      <td>https://images.aeonmedia.co/images/4c7d125f-f4...</td>\n",
       "      <td>NaN</td>\n",
       "      <td>NaN</td>\n",
       "      <td>NaN</td>\n",
       "      <td>NaN</td>\n",
       "      <td>...</td>\n",
       "      <td>NaN</td>\n",
       "      <td>NaN</td>\n",
       "      <td>NaN</td>\n",
       "      <td>NaN</td>\n",
       "      <td>NaN</td>\n",
       "      <td>NaN</td>\n",
       "      <td>NaN</td>\n",
       "      <td>NaN</td>\n",
       "      <td>NaN</td>\n",
       "      <td>NaN</td>\n",
       "    </tr>\n",
       "    <tr>\n",
       "      <th>1</th>\n",
       "      <td>Addiction</td>\n",
       "      <td>The fear of missing out haunts our social netw...</td>\n",
       "      <td>Hereâ€™s a test you might enjoy: rate these sc...</td>\n",
       "      <td>Jacob Burak</td>\n",
       "      <td>https://aeon.co//essays/can-we-break-free-from...</td>\n",
       "      <td>https://images.aeonmedia.co/images/1c3abfe6-af...</td>\n",
       "      <td>NaN</td>\n",
       "      <td>NaN</td>\n",
       "      <td>NaN</td>\n",
       "      <td>NaN</td>\n",
       "      <td>...</td>\n",
       "      <td>NaN</td>\n",
       "      <td>NaN</td>\n",
       "      <td>NaN</td>\n",
       "      <td>NaN</td>\n",
       "      <td>NaN</td>\n",
       "      <td>NaN</td>\n",
       "      <td>NaN</td>\n",
       "      <td>NaN</td>\n",
       "      <td>NaN</td>\n",
       "      <td>NaN</td>\n",
       "    </tr>\n",
       "  </tbody>\n",
       "</table>\n",
       "<p>2 rows × 313 columns</p>\n",
       "</div>"
      ],
      "text/plain": [
       "       title                                        description  \\\n",
       "0  Addiction  Passion stabs, unrequited love hurts and taboo...   \n",
       "1  Addiction  The fear of missing out haunts our social netw...   \n",
       "\n",
       "                                               essay      authors  \\\n",
       "0  Omer Bonne means well; that much is certain. A...  Angela Chen   \n",
       "1  Hereâ€™s a test you might enjoy: rate these sc...  Jacob Burak   \n",
       "\n",
       "                                          source_url  \\\n",
       "0  https://aeon.co//essays/how-far-should-medicin...   \n",
       "1  https://aeon.co//essays/can-we-break-free-from...   \n",
       "\n",
       "                                       thumbnail_url Unnamed: 6 Unnamed: 7  \\\n",
       "0  https://images.aeonmedia.co/images/4c7d125f-f4...        NaN        NaN   \n",
       "1  https://images.aeonmedia.co/images/1c3abfe6-af...        NaN        NaN   \n",
       "\n",
       "  Unnamed: 8 Unnamed: 9  ... Unnamed: 303 Unnamed: 304 Unnamed: 305  \\\n",
       "0        NaN        NaN  ...          NaN          NaN          NaN   \n",
       "1        NaN        NaN  ...          NaN          NaN          NaN   \n",
       "\n",
       "  Unnamed: 306 Unnamed: 307 Unnamed: 308 Unnamed: 309 Unnamed: 310  \\\n",
       "0          NaN          NaN          NaN          NaN          NaN   \n",
       "1          NaN          NaN          NaN          NaN          NaN   \n",
       "\n",
       "  Unnamed: 311 Unnamed: 312  \n",
       "0          NaN          NaN  \n",
       "1          NaN          NaN  \n",
       "\n",
       "[2 rows x 313 columns]"
      ]
     },
     "execution_count": 3,
     "metadata": {},
     "output_type": "execute_result"
    }
   ],
   "source": [
    "df1.head(2)"
   ]
  },
  {
   "cell_type": "code",
   "execution_count": 4,
   "metadata": {},
   "outputs": [],
   "source": [
    "df1 = df1.loc[:, ~df1.columns.str.startswith('Unnamed')]"
   ]
  },
  {
   "cell_type": "code",
   "execution_count": 5,
   "metadata": {},
   "outputs": [],
   "source": [
    "dropped_cols = [ 'authors', 'source_url', 'thumbnail_url']\n",
    "df1.drop(axis=1, columns= dropped_cols, inplace=True)\n",
    "\n",
    "dropped_cols2= ['Unnamed: 2', 'Unnamed: 3']\n",
    "df2.drop(axis= 1, columns= dropped_cols2, inplace=True)"
   ]
  },
  {
   "cell_type": "code",
   "execution_count": 6,
   "metadata": {},
   "outputs": [
    {
     "data": {
      "text/html": [
       "<div>\n",
       "<style scoped>\n",
       "    .dataframe tbody tr th:only-of-type {\n",
       "        vertical-align: middle;\n",
       "    }\n",
       "\n",
       "    .dataframe tbody tr th {\n",
       "        vertical-align: top;\n",
       "    }\n",
       "\n",
       "    .dataframe thead th {\n",
       "        text-align: right;\n",
       "    }\n",
       "</style>\n",
       "<table border=\"1\" class=\"dataframe\">\n",
       "  <thead>\n",
       "    <tr style=\"text-align: right;\">\n",
       "      <th></th>\n",
       "      <th>title</th>\n",
       "      <th>description</th>\n",
       "      <th>essay</th>\n",
       "    </tr>\n",
       "  </thead>\n",
       "  <tbody>\n",
       "    <tr>\n",
       "      <th>0</th>\n",
       "      <td>Addiction</td>\n",
       "      <td>Passion stabs, unrequited love hurts and taboo...</td>\n",
       "      <td>Omer Bonne means well; that much is certain. A...</td>\n",
       "    </tr>\n",
       "    <tr>\n",
       "      <th>1</th>\n",
       "      <td>Addiction</td>\n",
       "      <td>The fear of missing out haunts our social netw...</td>\n",
       "      <td>Hereâ€™s a test you might enjoy: rate these sc...</td>\n",
       "    </tr>\n",
       "  </tbody>\n",
       "</table>\n",
       "</div>"
      ],
      "text/plain": [
       "       title                                        description  \\\n",
       "0  Addiction  Passion stabs, unrequited love hurts and taboo...   \n",
       "1  Addiction  The fear of missing out haunts our social netw...   \n",
       "\n",
       "                                               essay  \n",
       "0  Omer Bonne means well; that much is certain. A...  \n",
       "1  Hereâ€™s a test you might enjoy: rate these sc...  "
      ]
     },
     "execution_count": 6,
     "metadata": {},
     "output_type": "execute_result"
    }
   ],
   "source": [
    "df1.head(2)"
   ]
  },
  {
   "cell_type": "code",
   "execution_count": 7,
   "metadata": {},
   "outputs": [
    {
     "data": {
      "text/html": [
       "<div>\n",
       "<style scoped>\n",
       "    .dataframe tbody tr th:only-of-type {\n",
       "        vertical-align: middle;\n",
       "    }\n",
       "\n",
       "    .dataframe tbody tr th {\n",
       "        vertical-align: top;\n",
       "    }\n",
       "\n",
       "    .dataframe thead th {\n",
       "        text-align: right;\n",
       "    }\n",
       "</style>\n",
       "<table border=\"1\" class=\"dataframe\">\n",
       "  <thead>\n",
       "    <tr style=\"text-align: right;\">\n",
       "      <th></th>\n",
       "      <th>id</th>\n",
       "      <th>text</th>\n",
       "    </tr>\n",
       "  </thead>\n",
       "  <tbody>\n",
       "    <tr>\n",
       "      <th>0</th>\n",
       "      <td>6060D28C05B6</td>\n",
       "      <td>Some schools in United States ofter classes fr...</td>\n",
       "    </tr>\n",
       "    <tr>\n",
       "      <th>1</th>\n",
       "      <td>60623DB5DE7A</td>\n",
       "      <td>Four-day work week, a remarkable idea to conse...</td>\n",
       "    </tr>\n",
       "  </tbody>\n",
       "</table>\n",
       "</div>"
      ],
      "text/plain": [
       "             id                                               text\n",
       "0  6060D28C05B6  Some schools in United States ofter classes fr...\n",
       "1  60623DB5DE7A  Four-day work week, a remarkable idea to conse..."
      ]
     },
     "execution_count": 7,
     "metadata": {},
     "output_type": "execute_result"
    }
   ],
   "source": [
    "df2.head(2)"
   ]
  },
  {
   "cell_type": "code",
   "execution_count": 8,
   "metadata": {},
   "outputs": [
    {
     "name": "stdout",
     "output_type": "stream",
     "text": [
      "<class 'pandas.core.frame.DataFrame'>\n",
      "RangeIndex: 2393 entries, 0 to 2392\n",
      "Data columns (total 3 columns):\n",
      " #   Column       Non-Null Count  Dtype \n",
      "---  ------       --------------  ----- \n",
      " 0   title        2314 non-null   object\n",
      " 1   description  2314 non-null   object\n",
      " 2   essay        2229 non-null   object\n",
      "dtypes: object(3)\n",
      "memory usage: 56.2+ KB\n"
     ]
    }
   ],
   "source": [
    "df1.info()"
   ]
  },
  {
   "cell_type": "code",
   "execution_count": 9,
   "metadata": {},
   "outputs": [
    {
     "name": "stdout",
     "output_type": "stream",
     "text": [
      "<class 'pandas.core.frame.DataFrame'>\n",
      "RangeIndex: 2421 entries, 0 to 2420\n",
      "Data columns (total 2 columns):\n",
      " #   Column  Non-Null Count  Dtype \n",
      "---  ------  --------------  ----- \n",
      " 0   id      2314 non-null   object\n",
      " 1   text    2314 non-null   object\n",
      "dtypes: object(2)\n",
      "memory usage: 38.0+ KB\n"
     ]
    }
   ],
   "source": [
    "df2.info()"
   ]
  },
  {
   "cell_type": "code",
   "execution_count": 10,
   "metadata": {},
   "outputs": [],
   "source": [
    "df1.rename(columns={'essay': 'Human_written'}, inplace=True)\n",
    "df2.rename(columns={'text': 'AI_generated'}, inplace=True)\n",
    "\n",
    "# Merge the two DataFrames based on the index (or reset index if needed)\n",
    "df_new = pd.DataFrame({\n",
    "    'AI_generated': df2['AI_generated'],\n",
    "    'Human_written': df1['Human_written']\n",
    "})"
   ]
  },
  {
   "cell_type": "code",
   "execution_count": 11,
   "metadata": {},
   "outputs": [
    {
     "data": {
      "text/html": [
       "<div>\n",
       "<style scoped>\n",
       "    .dataframe tbody tr th:only-of-type {\n",
       "        vertical-align: middle;\n",
       "    }\n",
       "\n",
       "    .dataframe tbody tr th {\n",
       "        vertical-align: top;\n",
       "    }\n",
       "\n",
       "    .dataframe thead th {\n",
       "        text-align: right;\n",
       "    }\n",
       "</style>\n",
       "<table border=\"1\" class=\"dataframe\">\n",
       "  <thead>\n",
       "    <tr style=\"text-align: right;\">\n",
       "      <th></th>\n",
       "      <th>AI_generated</th>\n",
       "      <th>Human_written</th>\n",
       "    </tr>\n",
       "  </thead>\n",
       "  <tbody>\n",
       "    <tr>\n",
       "      <th>0</th>\n",
       "      <td>Some schools in United States ofter classes fr...</td>\n",
       "      <td>Omer Bonne means well; that much is certain. A...</td>\n",
       "    </tr>\n",
       "    <tr>\n",
       "      <th>1</th>\n",
       "      <td>Four-day work week, a remarkable idea to conse...</td>\n",
       "      <td>Hereâ€™s a test you might enjoy: rate these sc...</td>\n",
       "    </tr>\n",
       "    <tr>\n",
       "      <th>2</th>\n",
       "      <td>Students and their families should consider an...</td>\n",
       "      <td>Human beings crave all sorts of things: coffee...</td>\n",
       "    </tr>\n",
       "    <tr>\n",
       "      <th>3</th>\n",
       "      <td>Agree you will never grow if something beyond ...</td>\n",
       "      <td>I hear a single voice as I walk up the steps t...</td>\n",
       "    </tr>\n",
       "    <tr>\n",
       "      <th>4</th>\n",
       "      <td>I think our character traits are formed by inf...</td>\n",
       "      <td>Hereâ€™s what I remember about the first time ...</td>\n",
       "    </tr>\n",
       "    <tr>\n",
       "      <th>...</th>\n",
       "      <td>...</td>\n",
       "      <td>...</td>\n",
       "    </tr>\n",
       "    <tr>\n",
       "      <th>2309</th>\n",
       "      <td>In the future first thing i would really like ...</td>\n",
       "      <td>In 1969, at the height of the French summer, a...</td>\n",
       "    </tr>\n",
       "    <tr>\n",
       "      <th>2310</th>\n",
       "      <td>I agree that changing the school lunch menu to...</td>\n",
       "      <td>One way to avoid disillusionment is to stay at...</td>\n",
       "    </tr>\n",
       "    <tr>\n",
       "      <th>2311</th>\n",
       "      <td>Present. A lot people have a busy life and wor...</td>\n",
       "      <td>A rooster crowed at 4am in downtown Mumbai. Wh...</td>\n",
       "    </tr>\n",
       "    <tr>\n",
       "      <th>2312</th>\n",
       "      <td>It Has Been Said That First Impressions Are Al...</td>\n",
       "      <td>The day I first flew in the cockpit of an airl...</td>\n",
       "    </tr>\n",
       "    <tr>\n",
       "      <th>2313</th>\n",
       "      <td>Disney land is the place I would want to explo...</td>\n",
       "      <td>One of the biggest thrills of my teenage life ...</td>\n",
       "    </tr>\n",
       "  </tbody>\n",
       "</table>\n",
       "<p>2163 rows × 2 columns</p>\n",
       "</div>"
      ],
      "text/plain": [
       "                                           AI_generated  \\\n",
       "0     Some schools in United States ofter classes fr...   \n",
       "1     Four-day work week, a remarkable idea to conse...   \n",
       "2     Students and their families should consider an...   \n",
       "3     Agree you will never grow if something beyond ...   \n",
       "4     I think our character traits are formed by inf...   \n",
       "...                                                 ...   \n",
       "2309  In the future first thing i would really like ...   \n",
       "2310  I agree that changing the school lunch menu to...   \n",
       "2311  Present. A lot people have a busy life and wor...   \n",
       "2312  It Has Been Said That First Impressions Are Al...   \n",
       "2313  Disney land is the place I would want to explo...   \n",
       "\n",
       "                                          Human_written  \n",
       "0     Omer Bonne means well; that much is certain. A...  \n",
       "1     Hereâ€™s a test you might enjoy: rate these sc...  \n",
       "2     Human beings crave all sorts of things: coffee...  \n",
       "3     I hear a single voice as I walk up the steps t...  \n",
       "4     Hereâ€™s what I remember about the first time ...  \n",
       "...                                                 ...  \n",
       "2309  In 1969, at the height of the French summer, a...  \n",
       "2310  One way to avoid disillusionment is to stay at...  \n",
       "2311  A rooster crowed at 4am in downtown Mumbai. Wh...  \n",
       "2312  The day I first flew in the cockpit of an airl...  \n",
       "2313  One of the biggest thrills of my teenage life ...  \n",
       "\n",
       "[2163 rows x 2 columns]"
      ]
     },
     "execution_count": 11,
     "metadata": {},
     "output_type": "execute_result"
    }
   ],
   "source": [
    "df_new.dropna()"
   ]
  },
  {
   "cell_type": "code",
   "execution_count": 12,
   "metadata": {},
   "outputs": [
    {
     "name": "stdout",
     "output_type": "stream",
     "text": [
      "                                        AI_generated  \\\n",
      "0  Some schools in United States ofter classes fr...   \n",
      "1  Four-day work week, a remarkable idea to conse...   \n",
      "2  Students and their families should consider an...   \n",
      "3  Agree you will never grow if something beyond ...   \n",
      "4  I think our character traits are formed by inf...   \n",
      "\n",
      "                                       Human_written  \n",
      "0  Omer Bonne means well; that much is certain. A...  \n",
      "1  Hereâ€™s a test you might enjoy: rate these sc...  \n",
      "2  Human beings crave all sorts of things: coffee...  \n",
      "3  I hear a single voice as I walk up the steps t...  \n",
      "4  Hereâ€™s what I remember about the first time ...  \n"
     ]
    }
   ],
   "source": [
    "# Optional: If you want to keep 'title' or 'description'\n",
    "# combined_df['title'] = df1['title']  # Uncomment to add title\n",
    "# combined_df['description'] = df1['description']  # Uncomment to add description\n",
    "\n",
    "# Display the combined DataFrame\n",
    "print(df_new.head())"
   ]
  },
  {
   "cell_type": "code",
   "execution_count": 13,
   "metadata": {},
   "outputs": [
    {
     "name": "stdout",
     "output_type": "stream",
     "text": [
      "AI_generated     107\n",
      "Human_written    192\n",
      "dtype: int64\n"
     ]
    }
   ],
   "source": [
    "print(df_new.isnull().sum())"
   ]
  },
  {
   "cell_type": "code",
   "execution_count": 14,
   "metadata": {},
   "outputs": [
    {
     "name": "stdout",
     "output_type": "stream",
     "text": [
      "<class 'pandas.core.frame.DataFrame'>\n",
      "RangeIndex: 2421 entries, 0 to 2420\n",
      "Data columns (total 2 columns):\n",
      " #   Column         Non-Null Count  Dtype \n",
      "---  ------         --------------  ----- \n",
      " 0   AI_generated   2314 non-null   object\n",
      " 1   Human_written  2229 non-null   object\n",
      "dtypes: object(2)\n",
      "memory usage: 38.0+ KB\n"
     ]
    }
   ],
   "source": [
    "df_new.info()"
   ]
  },
  {
   "cell_type": "code",
   "execution_count": 15,
   "metadata": {},
   "outputs": [
    {
     "data": {
      "text/html": [
       "<div>\n",
       "<style scoped>\n",
       "    .dataframe tbody tr th:only-of-type {\n",
       "        vertical-align: middle;\n",
       "    }\n",
       "\n",
       "    .dataframe tbody tr th {\n",
       "        vertical-align: top;\n",
       "    }\n",
       "\n",
       "    .dataframe thead th {\n",
       "        text-align: right;\n",
       "    }\n",
       "</style>\n",
       "<table border=\"1\" class=\"dataframe\">\n",
       "  <thead>\n",
       "    <tr style=\"text-align: right;\">\n",
       "      <th></th>\n",
       "      <th>AI_generated</th>\n",
       "      <th>Human_written</th>\n",
       "    </tr>\n",
       "  </thead>\n",
       "  <tbody>\n",
       "    <tr>\n",
       "      <th>0</th>\n",
       "      <td>Some schools in United States ofter classes fr...</td>\n",
       "      <td>Omer Bonne means well; that much is certain. A...</td>\n",
       "    </tr>\n",
       "    <tr>\n",
       "      <th>1</th>\n",
       "      <td>Four-day work week, a remarkable idea to conse...</td>\n",
       "      <td>Hereâ€™s a test you might enjoy: rate these sc...</td>\n",
       "    </tr>\n",
       "    <tr>\n",
       "      <th>2</th>\n",
       "      <td>Students and their families should consider an...</td>\n",
       "      <td>Human beings crave all sorts of things: coffee...</td>\n",
       "    </tr>\n",
       "  </tbody>\n",
       "</table>\n",
       "</div>"
      ],
      "text/plain": [
       "                                        AI_generated  \\\n",
       "0  Some schools in United States ofter classes fr...   \n",
       "1  Four-day work week, a remarkable idea to conse...   \n",
       "2  Students and their families should consider an...   \n",
       "\n",
       "                                       Human_written  \n",
       "0  Omer Bonne means well; that much is certain. A...  \n",
       "1  Hereâ€™s a test you might enjoy: rate these sc...  \n",
       "2  Human beings crave all sorts of things: coffee...  "
      ]
     },
     "execution_count": 15,
     "metadata": {},
     "output_type": "execute_result"
    }
   ],
   "source": [
    "df_new.head(3)"
   ]
  },
  {
   "cell_type": "code",
   "execution_count": 16,
   "metadata": {},
   "outputs": [
    {
     "data": {
      "text/html": [
       "<div>\n",
       "<style scoped>\n",
       "    .dataframe tbody tr th:only-of-type {\n",
       "        vertical-align: middle;\n",
       "    }\n",
       "\n",
       "    .dataframe tbody tr th {\n",
       "        vertical-align: top;\n",
       "    }\n",
       "\n",
       "    .dataframe thead th {\n",
       "        text-align: right;\n",
       "    }\n",
       "</style>\n",
       "<table border=\"1\" class=\"dataframe\">\n",
       "  <thead>\n",
       "    <tr style=\"text-align: right;\">\n",
       "      <th></th>\n",
       "      <th>AI_generated</th>\n",
       "      <th>Human_written</th>\n",
       "    </tr>\n",
       "  </thead>\n",
       "  <tbody>\n",
       "    <tr>\n",
       "      <th>2416</th>\n",
       "      <td>NaN</td>\n",
       "      <td>NaN</td>\n",
       "    </tr>\n",
       "    <tr>\n",
       "      <th>2417</th>\n",
       "      <td>NaN</td>\n",
       "      <td>NaN</td>\n",
       "    </tr>\n",
       "    <tr>\n",
       "      <th>2418</th>\n",
       "      <td>NaN</td>\n",
       "      <td>NaN</td>\n",
       "    </tr>\n",
       "    <tr>\n",
       "      <th>2419</th>\n",
       "      <td>NaN</td>\n",
       "      <td>NaN</td>\n",
       "    </tr>\n",
       "    <tr>\n",
       "      <th>2420</th>\n",
       "      <td>NaN</td>\n",
       "      <td>NaN</td>\n",
       "    </tr>\n",
       "  </tbody>\n",
       "</table>\n",
       "</div>"
      ],
      "text/plain": [
       "     AI_generated Human_written\n",
       "2416          NaN           NaN\n",
       "2417          NaN           NaN\n",
       "2418          NaN           NaN\n",
       "2419          NaN           NaN\n",
       "2420          NaN           NaN"
      ]
     },
     "execution_count": 16,
     "metadata": {},
     "output_type": "execute_result"
    }
   ],
   "source": [
    "df_new.tail()"
   ]
  },
  {
   "cell_type": "code",
   "execution_count": 17,
   "metadata": {},
   "outputs": [],
   "source": [
    "df_new.dropna(inplace=True)"
   ]
  },
  {
   "cell_type": "code",
   "execution_count": 18,
   "metadata": {},
   "outputs": [
    {
     "name": "stdout",
     "output_type": "stream",
     "text": [
      "<class 'pandas.core.frame.DataFrame'>\n",
      "Index: 2163 entries, 0 to 2313\n",
      "Data columns (total 2 columns):\n",
      " #   Column         Non-Null Count  Dtype \n",
      "---  ------         --------------  ----- \n",
      " 0   AI_generated   2163 non-null   object\n",
      " 1   Human_written  2163 non-null   object\n",
      "dtypes: object(2)\n",
      "memory usage: 50.7+ KB\n"
     ]
    }
   ],
   "source": [
    "df_new.info()"
   ]
  },
  {
   "cell_type": "code",
   "execution_count": 19,
   "metadata": {},
   "outputs": [],
   "source": [
    "df_ai = pd.DataFrame({\n",
    "    'text': df_new['AI_generated'],'AI_generated': 1})\n",
    "df_human = pd.DataFrame({'text': df_new['Human_written'],'AI_generated': 0})\n",
    "df_new = pd.concat([df_ai, df_human])"
   ]
  },
  {
   "cell_type": "code",
   "execution_count": 21,
   "metadata": {},
   "outputs": [
    {
     "data": {
      "text/html": [
       "<div>\n",
       "<style scoped>\n",
       "    .dataframe tbody tr th:only-of-type {\n",
       "        vertical-align: middle;\n",
       "    }\n",
       "\n",
       "    .dataframe tbody tr th {\n",
       "        vertical-align: top;\n",
       "    }\n",
       "\n",
       "    .dataframe thead th {\n",
       "        text-align: right;\n",
       "    }\n",
       "</style>\n",
       "<table border=\"1\" class=\"dataframe\">\n",
       "  <thead>\n",
       "    <tr style=\"text-align: right;\">\n",
       "      <th></th>\n",
       "      <th>text</th>\n",
       "      <th>AI_generated</th>\n",
       "    </tr>\n",
       "  </thead>\n",
       "  <tbody>\n",
       "    <tr>\n",
       "      <th>0</th>\n",
       "      <td>Some schools in United States ofter classes fr...</td>\n",
       "      <td>1</td>\n",
       "    </tr>\n",
       "    <tr>\n",
       "      <th>1</th>\n",
       "      <td>Four-day work week, a remarkable idea to conse...</td>\n",
       "      <td>1</td>\n",
       "    </tr>\n",
       "    <tr>\n",
       "      <th>2</th>\n",
       "      <td>Students and their families should consider an...</td>\n",
       "      <td>1</td>\n",
       "    </tr>\n",
       "    <tr>\n",
       "      <th>3</th>\n",
       "      <td>Agree you will never grow if something beyond ...</td>\n",
       "      <td>1</td>\n",
       "    </tr>\n",
       "    <tr>\n",
       "      <th>4</th>\n",
       "      <td>I think our character traits are formed by inf...</td>\n",
       "      <td>1</td>\n",
       "    </tr>\n",
       "    <tr>\n",
       "      <th>5</th>\n",
       "      <td>Online classes, i think that if students reall...</td>\n",
       "      <td>1</td>\n",
       "    </tr>\n",
       "  </tbody>\n",
       "</table>\n",
       "</div>"
      ],
      "text/plain": [
       "                                                text  AI_generated\n",
       "0  Some schools in United States ofter classes fr...             1\n",
       "1  Four-day work week, a remarkable idea to conse...             1\n",
       "2  Students and their families should consider an...             1\n",
       "3  Agree you will never grow if something beyond ...             1\n",
       "4  I think our character traits are formed by inf...             1\n",
       "5  Online classes, i think that if students reall...             1"
      ]
     },
     "execution_count": 21,
     "metadata": {},
     "output_type": "execute_result"
    }
   ],
   "source": [
    "df_new.head(6)"
   ]
  },
  {
   "cell_type": "code",
   "execution_count": null,
   "metadata": {},
   "outputs": [],
   "source": []
  }
 ],
 "metadata": {
  "kernelspec": {
   "display_name": "Python 3",
   "language": "python",
   "name": "python3"
  },
  "language_info": {
   "codemirror_mode": {
    "name": "ipython",
    "version": 3
   },
   "file_extension": ".py",
   "mimetype": "text/x-python",
   "name": "python",
   "nbconvert_exporter": "python",
   "pygments_lexer": "ipython3",
   "version": "3.12.4"
  }
 },
 "nbformat": 4,
 "nbformat_minor": 2
}
